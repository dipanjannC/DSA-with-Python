{
 "cells": [
  {
   "cell_type": "markdown",
   "metadata": {},
   "source": [
    "01. Are semi-colons required in Python? Are they compulsory?\n",
    "\n",
    "    Semi-colons are required for complete conditional operators like if-else , loop blocks functions and classes. \n",
    "    It is compulsory to have them in place to for the compiler to know it encountered the end of the conditional block. "
   ]
  },
  {
   "cell_type": "markdown",
   "metadata": {},
   "source": [
    "02. In what case can semi-colon turn to be useful?\n",
    "\n",
    "    To complete a code block such that the compiler understand it reached the end of the statement."
   ]
  },
  {
   "cell_type": "code",
   "execution_count": null,
   "metadata": {},
   "outputs": [],
   "source": [
    "03."
   ]
  },
  {
   "cell_type": "markdown",
   "metadata": {},
   "source": []
  }
 ],
 "metadata": {
  "kernelspec": {
   "display_name": "Python 3",
   "language": "python",
   "name": "python3"
  },
  "language_info": {
   "name": "python",
   "version": "3.11.6"
  }
 },
 "nbformat": 4,
 "nbformat_minor": 2
}
