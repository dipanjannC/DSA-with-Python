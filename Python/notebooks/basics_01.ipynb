{
 "cells": [
  {
   "cell_type": "markdown",
   "metadata": {},
   "source": [
    "01. Are semi-colons required in Python? Are they compulsory?\n",
    "\n",
    "    Semicolons in Python, while syntactically correct, are largely unnecessary and not recommended as per Python's style guidelines. The emphasis should always be on writing clean, readable, and maintainable code."
   ]
  },
  {
   "cell_type": "markdown",
   "metadata": {},
   "source": [
    "02. In what case can semi-colon turn to be useful?\n",
    "\n",
    "    Semicolons can be used to delimit statements if you wish to put multiple statements on the same line. A semicolon in Python denotes separation, rather than termination."
   ]
  },
  {
   "cell_type": "code",
   "execution_count": null,
   "metadata": {},
   "outputs": [],
   "source": [
    "03. "
   ]
  },
  {
   "cell_type": "markdown",
   "metadata": {},
   "source": []
  }
 ],
 "metadata": {
  "kernelspec": {
   "display_name": "Python 3",
   "language": "python",
   "name": "python3"
  },
  "language_info": {
   "name": "python",
   "version": "3.11.6"
  }
 },
 "nbformat": 4,
 "nbformat_minor": 2
}
